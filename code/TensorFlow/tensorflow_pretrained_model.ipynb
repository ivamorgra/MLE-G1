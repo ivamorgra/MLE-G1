{
 "cells": [
  {
   "cell_type": "code",
   "execution_count": 1,
   "metadata": {},
   "outputs": [
    {
     "name": "stderr",
     "output_type": "stream",
     "text": [
      "c:\\Users\\User\\anaconda3\\Lib\\site-packages\\pandas\\core\\arrays\\masked.py:60: UserWarning: Pandas requires version '1.3.6' or newer of 'bottleneck' (version '1.3.5' currently installed).\n",
      "  from pandas.core import (\n"
     ]
    },
    {
     "name": "stdout",
     "output_type": "stream",
     "text": [
      "WARNING:tensorflow:From c:\\Users\\User\\anaconda3\\Lib\\site-packages\\keras\\src\\losses.py:2976: The name tf.losses.sparse_softmax_cross_entropy is deprecated. Please use tf.compat.v1.losses.sparse_softmax_cross_entropy instead.\n",
      "\n"
     ]
    }
   ],
   "source": [
    "import json\n",
    "from matplotlib import pyplot as plt\n",
    "import pandas as pd\n",
    "import tensorflow as tf\n",
    "import tensorflow_hub as hub\n",
    "import cv2\n",
    "import numpy as np\n",
    "from sklearn.metrics import precision_score, recall_score, f1_score\n",
    "from time import time\n",
    "import os\n",
    "import shutil\n",
    "import math\n",
    "from statistics import mean\n",
    "import xml.etree.ElementTree as ET\n",
    "from PIL import Image, ImageDraw"
   ]
  },
  {
   "cell_type": "markdown",
   "metadata": {},
   "source": [
    "# Funciones del extra"
   ]
  },
  {
   "cell_type": "markdown",
   "metadata": {},
   "source": [
    "### Se ha modificado la función de calcular IOU"
   ]
  },
  {
   "cell_type": "code",
   "execution_count": 2,
   "metadata": {},
   "outputs": [],
   "source": [
    "def translate_coco_to_images_net(searched_label):\n",
    "    label = \"\"\n",
    "    if (searched_label in [\"n02105855\", \"n02114548\", \"n02089973\", \"n02097209\", \"n02111277\", \"n02112018\", \"n02093859\"]) :\n",
    "        label = \"dog\"\n",
    "    elif (searched_label in [\"n02930766\", \"n03930630\"]) :\n",
    "        label = \"car\"\n",
    "    elif (searched_label in [\"n07742313\"]) :\n",
    "        label = \"apple\"\n",
    "    return label\n",
    "\n",
    "def find_xml_file(path, jpeg_filename):\n",
    "    # Get the base filename without extension\n",
    "    base_filename = os.path.splitext(os.path.basename(jpeg_filename))[0]\n",
    "\n",
    "    # Construct the XML filename\n",
    "    xml_filename = os.path.join(path, f\"{base_filename}.xml\")\n",
    "\n",
    "    # Check if the XML file exists\n",
    "    if os.path.exists(xml_filename):\n",
    "        return xml_filename\n",
    "    else:\n",
    "        return None\n",
    "\n",
    "def clear_directory(directory_path):\n",
    "    if os.path.exists(directory_path):\n",
    "        shutil.rmtree(directory_path)\n",
    "    os.makedirs(directory_path)\n",
    "\n",
    "def parse_xml(xml_file):\n",
    "    tree = ET.parse(xml_file)\n",
    "    root = tree.getroot()\n",
    "\n",
    "    annotations = []\n",
    "\n",
    "    for object_elem in root.findall(\".//object\"):\n",
    "        name_elem = object_elem.find(\"name\")\n",
    "        bbox_elem = object_elem.find(\"bndbox\")\n",
    "\n",
    "        if name_elem is not None and bbox_elem is not None:\n",
    "            name = name_elem.text\n",
    "            xmin = int(bbox_elem.find(\"xmin\").text)\n",
    "            ymin = int(bbox_elem.find(\"ymin\").text)\n",
    "            xmax = int(bbox_elem.find(\"xmax\").text)\n",
    "            ymax = int(bbox_elem.find(\"ymax\").text)\n",
    "\n",
    "            annotation = {\n",
    "                'name': name,\n",
    "                'xmin': xmin,\n",
    "                'ymin': ymin,\n",
    "                'xmax': xmax,\n",
    "                'ymax': ymax\n",
    "            }\n",
    "\n",
    "            annotations.append(annotation)\n",
    "\n",
    "    return annotations\n",
    "\n",
    "def calculate_iou(box1, box2):\n",
    "    # Calculate the intersection coordinates\n",
    "    inter_xmin = max(box1[0], box2[0])\n",
    "    inter_ymin = max(box1[1], box2[1])\n",
    "    inter_xmax = min(box1[2], box2[2])\n",
    "    inter_ymax = min(box1[3], box2[3])\n",
    "\n",
    "    # Calculate the area of intersection\n",
    "    inter_area = max(0, inter_xmax - inter_xmin + 1) * max(0, inter_ymax - inter_ymin + 1)\n",
    "\n",
    "    # Calculate the area of both boxes\n",
    "    box1_area = (box1[2] - box1[0] + 1) * (box1[3] - box1[1] + 1)\n",
    "    box2_area = (box2[2] - box2[0] + 1) * (box2[3] - box2[1] + 1)\n",
    "\n",
    "    # Calculate IoU\n",
    "    iou = inter_area / float(box1_area + box2_area - inter_area)\n",
    "    return iou\n",
    "\n",
    "\n",
    "def calculate_absolute_difference(box1, box2):\n",
    "    # Calculate absolute differences for each coordinate\n",
    "    diff_xmin = abs(box1[0] - box2[0])\n",
    "    diff_ymin = abs(box1[1] - box2[1])\n",
    "    diff_xmax = abs(box1[2] - box2[2])\n",
    "    diff_ymax = abs(box1[3] - box2[3])\n",
    "\n",
    "    # You can sum up the absolute differences or use any other measure\n",
    "    total_absolute_difference = diff_xmin + diff_ymin + diff_xmax + diff_ymax\n",
    "    return total_absolute_difference\n",
    "\n",
    "def get_scores(results, threshold):\n",
    "    TP = 0\n",
    "    FP = 0\n",
    "    FN = 0\n",
    "    # R2 is non-significant because all actual values are 1\n",
    "    mse = 0\n",
    "    mae = 0\n",
    "    mlse = 0\n",
    "\n",
    "    n = len(results)\n",
    "    for result in results:\n",
    "        if result == 0:\n",
    "            FN += 1\n",
    "        elif result < threshold:\n",
    "            FP += 1\n",
    "        else:\n",
    "            TP += 1\n",
    "\n",
    "        mse += (1 - result) ** 2\n",
    "        mae += abs(1 - result)\n",
    "        mlse += (math.log(1 + 1) - math.log(1 + result))**2\n",
    "    mse /= n\n",
    "    mae /= n\n",
    "    mlse /= n\n",
    "\n",
    "    precision = TP/(TP + FP)\n",
    "    recall = TP/(TP + FN)\n",
    "\n",
    "    f1 = 2 * (precision * recall) / (precision + recall)\n",
    "\n",
    "    return {\"average_iou\" : mean(results),\n",
    "            \"precision\" : precision,\n",
    "            \"recall\" : recall,\n",
    "            \"f1\" : f1,\n",
    "            \"mse\" : mse, \n",
    "            \"mae\" : mae, \n",
    "            \"mlse\" : mlse, }"
   ]
  },
  {
   "cell_type": "markdown",
   "metadata": {},
   "source": [
    "### Carga del modelo pre entrenado de TensorFlow"
   ]
  },
  {
   "cell_type": "code",
   "execution_count": 3,
   "metadata": {},
   "outputs": [
    {
     "name": "stdout",
     "output_type": "stream",
     "text": [
      "WARNING:tensorflow:From c:\\Users\\User\\anaconda3\\Lib\\site-packages\\tensorflow_hub\\resolver.py:120: The name tf.gfile.MakeDirs is deprecated. Please use tf.io.gfile.makedirs instead.\n",
      "\n"
     ]
    },
    {
     "name": "stderr",
     "output_type": "stream",
     "text": [
      "WARNING:tensorflow:From c:\\Users\\User\\anaconda3\\Lib\\site-packages\\tensorflow_hub\\resolver.py:120: The name tf.gfile.MakeDirs is deprecated. Please use tf.io.gfile.makedirs instead.\n",
      "\n"
     ]
    },
    {
     "name": "stdout",
     "output_type": "stream",
     "text": [
      "WARNING:tensorflow:From c:\\Users\\User\\anaconda3\\Lib\\site-packages\\tensorflow_hub\\module_v2.py:126: The name tf.saved_model.load_v2 is deprecated. Please use tf.compat.v2.saved_model.load instead.\n",
      "\n"
     ]
    },
    {
     "name": "stderr",
     "output_type": "stream",
     "text": [
      "WARNING:tensorflow:From c:\\Users\\User\\anaconda3\\Lib\\site-packages\\tensorflow_hub\\module_v2.py:126: The name tf.saved_model.load_v2 is deprecated. Please use tf.compat.v2.saved_model.load instead.\n",
      "\n",
      "WARNING:absl:Importing a function (__inference_EfficientDet-D6-D7_layer_call_and_return_conditional_losses_233604) with ops with unsaved custom gradients. Will likely fail if a gradient is requested.\n",
      "WARNING:absl:Importing a function (__inference_bifpn_layer_call_and_return_conditional_losses_169633) with ops with unsaved custom gradients. Will likely fail if a gradient is requested.\n",
      "WARNING:absl:Importing a function (__inference___call___54382) with ops with unsaved custom gradients. Will likely fail if a gradient is requested.\n",
      "WARNING:absl:Importing a function (__inference_EfficientDet-D6-D7_layer_call_and_return_conditional_losses_218766) with ops with unsaved custom gradients. Will likely fail if a gradient is requested.\n",
      "WARNING:absl:Importing a function (__inference_EfficientDet-D6-D7_layer_call_and_return_conditional_losses_209972) with ops with unsaved custom gradients. Will likely fail if a gradient is requested.\n",
      "WARNING:absl:Importing a function (__inference_bifpn_layer_call_and_return_conditional_losses_166209) with ops with unsaved custom gradients. Will likely fail if a gradient is requested.\n",
      "WARNING:absl:Importing a function (__inference_EfficientDet-D6-D7_layer_call_and_return_conditional_losses_242398) with ops with unsaved custom gradients. Will likely fail if a gradient is requested.\n"
     ]
    }
   ],
   "source": [
    "model_url = \"https://tfhub.dev/tensorflow/efficientdet/d7/1\"\n",
    "\n",
    "# Cargar el modelo desde TensorFlow Hub\n",
    "#model = hub.load(model_url)\n",
    "model = hub.load(\"https://www.kaggle.com/models/tensorflow/efficientdet/frameworks/TensorFlow2/variations/d7/versions/1\")"
   ]
  },
  {
   "cell_type": "markdown",
   "metadata": {},
   "source": [
    "### Configuración previa"
   ]
  },
  {
   "cell_type": "code",
   "execution_count": 18,
   "metadata": {},
   "outputs": [],
   "source": [
    "# Lista para almacenar las cajas delimitadoras predichas\n",
    "predicted_boxes_list = []\n",
    "inicio = time()\n",
    "\n",
    "folder_path = \"../../testImagesNet/Data/\"\n",
    "annotations_directory = \"../../testImagesNet/Annotations/\"\n",
    "output_directory = \"../../output/images/tensorflow_pretrained/\"\n",
    "clear_directory(output_directory)\n",
    "\n",
    "image_list = []\n",
    "image_path_list = []\n",
    "\n",
    "# List all files in the folder\n",
    "for filename in os.listdir(folder_path):\n",
    "    if filename.endswith(('.jpg', '.png', '.jpeg', '.JPEG')):  # You can add more extensions if needed\n",
    "        # Construct the full file path\n",
    "        file_path = os.path.join(folder_path, filename)\n",
    "        \n",
    "        # Read the image and append it to the list\n",
    "        img = cv2.imread(file_path)\n",
    "        image_list.append(img)\n",
    "        image_path_list.append(file_path)\n",
    "    \n",
    "\n",
    "\n",
    "true_boxes_list = []\n",
    "\n",
    "# Recorrer las imágenes y obtener las anotaciones de ground truth\n",
    "\n",
    "resources_directory = \"../../resources/\"\n",
    "\n",
    "# Load COCO class labels\n",
    "class_labels = []\n",
    "with open(resources_directory + \"faster_rcnn_coco.names\", \"rt\") as f:\n",
    "    class_labels = f.read().rstrip('\\n').split('\\n')"
   ]
  },
  {
   "cell_type": "markdown",
   "metadata": {},
   "source": [
    "### Inferencias sobre las imágenes de ImagesNet"
   ]
  },
  {
   "cell_type": "code",
   "execution_count": 19,
   "metadata": {},
   "outputs": [],
   "source": [
    "# Lista para almacenar las cajas delimitadoras predichas\n",
    "predicted_boxes_list_tf = []\n",
    "results = {}\n",
    "# Realizar inferencias en cada imagen\n",
    "for image_path, image_file in zip(image_path_list, image_list):\n",
    "\n",
    "    image = cv2.imread(image_path)\n",
    "    image = cv2.cvtColor(image, cv2.COLOR_BGR2RGB)\n",
    "\n",
    "    # Realizar inferencias en la imagen\n",
    "    outputs = model([image])\n",
    "\n",
    "    # Obtener las detecciones\n",
    "    boxes = outputs[\"detection_boxes\"].numpy()\n",
    "    scores = outputs[\"detection_scores\"].numpy()\n",
    "    classes = outputs[\"detection_classes\"].numpy().astype(np.int32)\n",
    "\n",
    "    # (Opcional) Filtrar detecciones por confianza\n",
    "    confidence_threshold = 0.5\n",
    "\n",
    "    xml_data = parse_xml(find_xml_file(annotations_directory, image_path))\n",
    "    \n",
    "    for target in xml_data:\n",
    "        iou = 0\n",
    "\n",
    "        searched_label = translate_coco_to_images_net(target[\"name\"])\n",
    "\n",
    "        image_iou_dict = {}\n",
    "        if searched_label in results:\n",
    "            image_iou_dict = results[searched_label]\n",
    "        if image_path not in image_iou_dict:\n",
    "            image_iou_dict[image_path] = []\n",
    "\n",
    "        for predicted_boxes, predicted_scores, predicted_classes in zip(boxes, scores, classes) :\n",
    "            for box, score, label in zip(predicted_boxes, predicted_scores, predicted_classes):\n",
    "                if score < 0.5 or label - 1 >= len(class_labels):\n",
    "                    break\n",
    "                # Obtener el tamaño de la imagen\n",
    "                image_size = image.shape[:2]\n",
    "\n",
    "                # Convertir las coordenadas normalizadas a píxeles reales\n",
    "                box_minmax = [\n",
    "                    box[1] * image_size[1],  # x_min\n",
    "                    box[0] * image_size[0],  # y_min\n",
    "                    box[3] * image_size[1],  # x_max\n",
    "                    box[2] * image_size[0]   # y_max\n",
    "                ]\n",
    "\n",
    "                draw_box = [int(num) for num in box_minmax]\n",
    "                # Draw the annotated box on the image\n",
    "                color = (0, 255, 0)  # You can change the color as needed\n",
    "                cv2.rectangle(image_file, (draw_box[0], draw_box[1]), (draw_box[2], draw_box[3]), color, 2)\n",
    "                cv2.putText(image_file, class_labels[label - 1], (draw_box[0], draw_box[1] - 10), cv2.FONT_HERSHEY_SIMPLEX, 0.5, color, 2)\n",
    "\n",
    "                if class_labels[label - 1] == searched_label:\n",
    "                    # Calcular IoU\n",
    "                    new_iou = calculate_iou(box_minmax, [target[\"xmin\"], target[\"ymin\"], target[\"xmax\"], target[\"ymax\"]])\n",
    "\n",
    "                    if np.any(new_iou > iou):\n",
    "                        iou = new_iou\n",
    "\n",
    "        # Añadir el resultado al diccionario\n",
    "        image_iou_dict[image_path].append(iou)\n",
    "        results[searched_label] = image_iou_dict\n",
    "        \n",
    "        # Save the annotated image\n",
    "        filename = os.path.join(output_directory, os.path.basename(image_path))\n",
    "        cv2.imwrite(filename, image_file)\n",
    "\n",
    "duracion = time() - inicio"
   ]
  },
  {
   "cell_type": "markdown",
   "metadata": {},
   "source": [
    "### Visualización de resultados"
   ]
  },
  {
   "cell_type": "code",
   "execution_count": 20,
   "metadata": {},
   "outputs": [
    {
     "data": {
      "image/png": "[encoded data removed]",
      "text/plain": [
       "<Figure size 640x480 with 1 Axes>"
      ]
     },
     "metadata": {},
     "output_type": "display_data"
    }
   ],
   "source": [
    "# Visualización de resultados en gráficos y exportación a CSV\n",
    "score_export_folder_path = \"../../output/scores/\"\n",
    "\n",
    "data = results[\"dog\"]\n",
    "\n",
    "merged_array = np.concatenate(list(data.values()))\n",
    "\n",
    "# Create bar chart\n",
    "plt.bar(range(len(merged_array)), merged_array)\n",
    "\n",
    "# Set the y-axis limits to ensure the range is between 0 and 1\n",
    "plt.ylim(0, 1)\n",
    "\n",
    "# Add labels and title\n",
    "plt.xlabel('Detecciones')\n",
    "plt.ylabel('Intersection over Union')\n",
    "plt.title('Tensorflow entrenado con COCO: detección de perros')\n",
    "\n",
    "# Show the plot\n",
    "plt.show()"
   ]
  },
  {
   "cell_type": "code",
   "execution_count": 21,
   "metadata": {},
   "outputs": [
    {
     "data": {
      "image/png": "[encoded data removed]",
      "text/plain": [
       "<Figure size 640x480 with 1 Axes>"
      ]
     },
     "metadata": {},
     "output_type": "display_data"
    }
   ],
   "source": [
    "data = results[\"car\"]\n",
    "\n",
    "merged_array = np.concatenate(list(data.values()))\n",
    "\n",
    "# Create bar chart\n",
    "plt.bar(range(len(merged_array)), merged_array)\n",
    "\n",
    "# Set the y-axis limits to ensure the range is between 0 and 1\n",
    "plt.ylim(0, 1)\n",
    "\n",
    "# Add labels and title\n",
    "plt.xlabel('Detecciones')\n",
    "plt.ylabel('Intersection over Union')\n",
    "plt.title('TensofrFlow entrenado con COCO: detección de coches')\n",
    "\n",
    "# Show the plot\n",
    "plt.show()"
   ]
  },
  {
   "cell_type": "code",
   "execution_count": 22,
   "metadata": {},
   "outputs": [
    {
     "data": {
      "image/png": "[encoded data removed]",
      "text/plain": [
       "<Figure size 640x480 with 1 Axes>"
      ]
     },
     "metadata": {},
     "output_type": "display_data"
    }
   ],
   "source": [
    "data = results[\"apple\"]\n",
    "\n",
    "merged_array = np.concatenate(list(data.values()))\n",
    "\n",
    "# Create bar chart\n",
    "plt.bar(range(len(merged_array)), merged_array)\n",
    "\n",
    "# Set the y-axis limits to ensure the range is between 0 and 1\n",
    "plt.ylim(0, 1)\n",
    "\n",
    "# Add labels and title\n",
    "plt.xlabel('Detecciones')\n",
    "plt.ylabel('Intersection over Union')\n",
    "plt.title('TensorFlow entrenado con COCO: detección de manzanas')\n",
    "\n",
    "# Show the plot\n",
    "plt.show()"
   ]
  },
  {
   "cell_type": "markdown",
   "metadata": {},
   "source": [
    "### Métricas"
   ]
  },
  {
   "cell_type": "code",
   "execution_count": 23,
   "metadata": {},
   "outputs": [],
   "source": [
    "threshold = 0.5\n",
    "# Specify the file path where you want to export the dictionary\n",
    "score_export_folder_path = \"../../output/scores/\""
   ]
  },
  {
   "cell_type": "code",
   "execution_count": 24,
   "metadata": {},
   "outputs": [
    {
     "name": "stdout",
     "output_type": "stream",
     "text": [
      "Average IoU: 0.8512365798405027\n",
      "Precision: 1.0\n",
      "Recall: 0.9047619047619048\n",
      "F1-score: 0.9500000000000001\n",
      "MSE: 0.09984645423442753\n",
      "MAE: 0.1487634201594973\n",
      "MLSE: 0.04697884839730723\n"
     ]
    }
   ],
   "source": [
    "data = results[\"dog\"]\n",
    "threshold = 0.5\n",
    "merged_array = np.concatenate(list(data.values()))\n",
    "\n",
    "scores = get_scores(merged_array, threshold)\n",
    "\n",
    "print(\"Average IoU: \" + str(scores[\"average_iou\"]))\n",
    "print(\"Precision: \" + str(scores[\"precision\"]))\n",
    "print(\"Recall: \" + str(scores[\"recall\"]))\n",
    "print(\"F1-score: \" + str(scores[\"f1\"]))\n",
    "print(\"MSE: \" + str(scores[\"mse\"]))\n",
    "print(\"MAE: \" + str(scores[\"mae\"]))\n",
    "print(\"MLSE: \" + str(scores[\"mlse\"]))\n",
    "\n",
    "scores[\"time\"] = duracion\n",
    "\n",
    "score_export_file_path = \"tensorflow_dog_scores.json\"\n",
    "# Export the dictionary to a JSON file\n",
    "with open(score_export_folder_path + score_export_file_path, 'w') as file:\n",
    "    json.dump(scores, file)"
   ]
  },
  {
   "cell_type": "code",
   "execution_count": 25,
   "metadata": {},
   "outputs": [
    {
     "name": "stdout",
     "output_type": "stream",
     "text": [
      "Average IoU: 0.25337809779529263\n",
      "Precision: 0.4166666666666667\n",
      "Recall: 0.38461538461538464\n",
      "F1-score: 0.4\n",
      "MSE: 0.7262908538221964\n",
      "MAE: 0.7466219022047074\n",
      "MLSE: 0.34431764584112245\n"
     ]
    }
   ],
   "source": [
    "data = results[\"car\"]\n",
    "\n",
    "merged_array = np.concatenate(list(data.values()))\n",
    "\n",
    "scores = get_scores(merged_array, threshold)\n",
    "\n",
    "print(\"Average IoU: \" + str(scores[\"average_iou\"]))\n",
    "print(\"Precision: \" + str(scores[\"precision\"]))\n",
    "print(\"Recall: \" + str(scores[\"recall\"]))\n",
    "print(\"F1-score: \" + str(scores[\"f1\"]))\n",
    "print(\"MSE: \" + str(scores[\"mse\"]))\n",
    "print(\"MAE: \" + str(scores[\"mae\"]))\n",
    "print(\"MLSE: \" + str(scores[\"mlse\"]))\n",
    "\n",
    "scores[\"time\"] = duracion\n",
    "\n",
    "score_export_file_path = \"tensorflow_car_scores.json\"\n",
    "# Export the dictionary to a JSON file\n",
    "with open(score_export_folder_path + score_export_file_path, 'w') as file:\n",
    "    json.dump(scores, file)"
   ]
  },
  {
   "cell_type": "code",
   "execution_count": 26,
   "metadata": {},
   "outputs": [
    {
     "name": "stdout",
     "output_type": "stream",
     "text": [
      "Average IoU: 0.6365490988005269\n",
      "Precision: 0.8666666666666667\n",
      "Recall: 0.7428571428571429\n",
      "F1-score: 0.8\n",
      "MSE: 0.31999190784049936\n",
      "MAE: 0.3634509011994732\n",
      "MLSE: 0.15070107858612772\n"
     ]
    }
   ],
   "source": [
    "data = results[\"apple\"]\n",
    "\n",
    "merged_array = np.concatenate(list(data.values()))\n",
    "\n",
    "scores = get_scores(merged_array, threshold)\n",
    "\n",
    "print(\"Average IoU: \" + str(scores[\"average_iou\"]))\n",
    "print(\"Precision: \" + str(scores[\"precision\"]))\n",
    "print(\"Recall: \" + str(scores[\"recall\"]))\n",
    "print(\"F1-score: \" + str(scores[\"f1\"]))\n",
    "print(\"MSE: \" + str(scores[\"mse\"]))\n",
    "print(\"MAE: \" + str(scores[\"mae\"]))\n",
    "print(\"MLSE: \" + str(scores[\"mlse\"]))\n",
    "\n",
    "scores[\"time\"] = duracion\n",
    "\n",
    "score_export_file_path = \"tensorflow_apple_scores.json\"\n",
    "# Export the dictionary to a JSON file\n",
    "with open(score_export_folder_path + score_export_file_path, 'w') as file:\n",
    "    json.dump(scores, file)"
   ]
  },
  {
   "cell_type": "code",
   "execution_count": null,
   "metadata": {},
   "outputs": [],
   "source": []
  }
 ],
 "metadata": {
  "kernelspec": {
   "display_name": "Python 3",
   "language": "python",
   "name": "python3"
  },
  "language_info": {
   "codemirror_mode": {
    "name": "ipython",
    "version": 3
   },
   "file_extension": ".py",
   "mimetype": "text/x-python",
   "name": "python",
   "nbconvert_exporter": "python",
   "pygments_lexer": "ipython3",
   "version": "3.11.5"
  }
 },
 "nbformat": 4,
 "nbformat_minor": 2
}
