{
 "cells": [
  {
   "cell_type": "code",
   "execution_count": 13,
   "metadata": {},
   "outputs": [],
   "source": [
    "import json\n",
    "from matplotlib import pyplot as plt\n",
    "import pandas as pd\n",
    "import tensorflow as tf\n",
    "import tensorflow_hub as hub\n",
    "import cv2\n",
    "import numpy as np\n",
    "from sklearn.metrics import precision_score, recall_score, f1_score\n",
    "from time import time\n",
    "import os\n",
    "import shutil\n",
    "import math\n",
    "from statistics import mean\n",
    "import xml.etree.ElementTree as ET\n",
    "from PIL import Image, ImageDraw"
   ]
  },
  {
   "cell_type": "markdown",
   "metadata": {},
   "source": [
    "# Funciones del extra"
   ]
  },
  {
   "cell_type": "markdown",
   "metadata": {},
   "source": [
    "### Se ha modificado la función de calcular IOU"
   ]
  },
  {
   "cell_type": "code",
   "execution_count": 14,
   "metadata": {},
   "outputs": [],
   "source": [
    "def translate_coco_to_images_net(searched_label):\n",
    "    label = \"\"\n",
    "    if (searched_label in [\"n02105855\", \"n02114548\", \"n02089973\", \"n02097209\", \"n02111277\", \"n02112018\", \"n02093859\"]) :\n",
    "        label = \"dog\"\n",
    "    elif (searched_label in [\"n02930766\", \"n03930630\"]) :\n",
    "        label = \"car\"\n",
    "    elif (searched_label in [\"n03895866\"]) :\n",
    "        label = \"train\"\n",
    "    elif (searched_label in [\"n07742313\"]) :\n",
    "        label = \"apple\"\n",
    "    return label\n",
    "\n",
    "def find_xml_file(path, jpeg_filename):\n",
    "    # Get the base filename without extension\n",
    "    base_filename = os.path.splitext(os.path.basename(jpeg_filename))[0]\n",
    "\n",
    "    # Construct the XML filename\n",
    "    xml_filename = os.path.join(path, f\"{base_filename}.xml\")\n",
    "\n",
    "    # Check if the XML file exists\n",
    "    if os.path.exists(xml_filename):\n",
    "        return xml_filename\n",
    "    else:\n",
    "        return None\n",
    "\n",
    "def clear_directory(directory_path):\n",
    "    if os.path.exists(directory_path):\n",
    "        shutil.rmtree(directory_path)\n",
    "    os.makedirs(directory_path)\n",
    "\n",
    "def parse_xml(xml_file):\n",
    "    tree = ET.parse(xml_file)\n",
    "    root = tree.getroot()\n",
    "\n",
    "    annotations = []\n",
    "\n",
    "    for object_elem in root.findall(\".//object\"):\n",
    "        name_elem = object_elem.find(\"name\")\n",
    "        bbox_elem = object_elem.find(\"bndbox\")\n",
    "\n",
    "        if name_elem is not None and bbox_elem is not None:\n",
    "            name = name_elem.text\n",
    "            xmin = int(bbox_elem.find(\"xmin\").text)\n",
    "            ymin = int(bbox_elem.find(\"ymin\").text)\n",
    "            xmax = int(bbox_elem.find(\"xmax\").text)\n",
    "            ymax = int(bbox_elem.find(\"ymax\").text)\n",
    "\n",
    "            annotation = {\n",
    "                'name': name,\n",
    "                'xmin': xmin,\n",
    "                'ymin': ymin,\n",
    "                'xmax': xmax,\n",
    "                'ymax': ymax\n",
    "            }\n",
    "\n",
    "            annotations.append(annotation)\n",
    "\n",
    "    return annotations\n",
    "\n",
    "def calculate_iou(box1, box2):\n",
    "    # Calculate the intersection coordinates\n",
    "    inter_xmin = max(box1[0], box2[0])\n",
    "    inter_ymin = max(box1[1], box2[1])\n",
    "    inter_xmax = min(box1[2], box2[2])\n",
    "    inter_ymax = min(box1[3], box2[3])\n",
    "\n",
    "    # Calculate the area of intersection\n",
    "    inter_area = max(0, inter_xmax - inter_xmin + 1) * max(0, inter_ymax - inter_ymin + 1)\n",
    "\n",
    "    # Calculate the area of both boxes\n",
    "    box1_area = (box1[2] - box1[0] + 1) * (box1[3] - box1[1] + 1)\n",
    "    box2_area = (box2[2] - box2[0] + 1) * (box2[3] - box2[1] + 1)\n",
    "\n",
    "    # Calculate IoU\n",
    "    iou = inter_area / float(box1_area + box2_area - inter_area)\n",
    "    return iou\n",
    "\n",
    "\n",
    "def calculate_absolute_difference(box1, box2):\n",
    "    # Calculate absolute differences for each coordinate\n",
    "    diff_xmin = abs(box1[0] - box2[0])\n",
    "    diff_ymin = abs(box1[1] - box2[1])\n",
    "    diff_xmax = abs(box1[2] - box2[2])\n",
    "    diff_ymax = abs(box1[3] - box2[3])\n",
    "\n",
    "    # You can sum up the absolute differences or use any other measure\n",
    "    total_absolute_difference = diff_xmin + diff_ymin + diff_xmax + diff_ymax\n",
    "    return total_absolute_difference\n",
    "\n",
    "def get_scores(results, threshold):\n",
    "    TP = 0\n",
    "    FP = 0\n",
    "    FN = 0\n",
    "    # R2 is non-significant because all actual values are 1\n",
    "    mse = 0\n",
    "    mae = 0\n",
    "    mlse = 0\n",
    "\n",
    "    n = len(results)\n",
    "    for result in results:\n",
    "        if result == 0:\n",
    "            FN += 1\n",
    "        elif result < threshold:\n",
    "            FP += 1\n",
    "        else:\n",
    "            TP += 1\n",
    "\n",
    "        mse += (1 - result) ** 2\n",
    "        mae += abs(1 - result)\n",
    "        mlse += (math.log(1 + 1) - math.log(1 + result))**2\n",
    "    mse /= n\n",
    "    mae /= n\n",
    "    mlse /= n\n",
    "\n",
    "    precision = TP/(TP + FP)\n",
    "    recall = TP/(TP + FN)\n",
    "\n",
    "    f1 = 2 * (precision * recall) / (precision + recall)\n",
    "\n",
    "    return {\"average_iou\" : mean(results),\n",
    "            \"precision\" : precision,\n",
    "            \"recall\" : recall,\n",
    "            \"f1\" : f1,\n",
    "            \"mse\" : mse, \n",
    "            \"mae\" : mae, \n",
    "            \"mlse\" : mlse, }"
   ]
  },
  {
   "cell_type": "markdown",
   "metadata": {},
   "source": [
    "### Carga del modelo pre entrenado de TensorFlow"
   ]
  },
  {
   "cell_type": "code",
   "execution_count": 15,
   "metadata": {},
   "outputs": [
    {
     "name": "stderr",
     "output_type": "stream",
     "text": [
      "WARNING:absl:Importing a function (__inference_EfficientDet-D6-D7_layer_call_and_return_conditional_losses_233604) with ops with unsaved custom gradients. Will likely fail if a gradient is requested.\n",
      "WARNING:absl:Importing a function (__inference_bifpn_layer_call_and_return_conditional_losses_169633) with ops with unsaved custom gradients. Will likely fail if a gradient is requested.\n"
     ]
    },
    {
     "ename": "KeyboardInterrupt",
     "evalue": "",
     "output_type": "error",
     "traceback": [
      "\u001b[1;31m---------------------------------------------------------------------------\u001b[0m",
      "\u001b[1;31mKeyboardInterrupt\u001b[0m                         Traceback (most recent call last)",
      "Cell \u001b[1;32mIn[15], line 5\u001b[0m\n\u001b[0;32m      1\u001b[0m model_url \u001b[38;5;241m=\u001b[39m \u001b[38;5;124m\"\u001b[39m\u001b[38;5;124mhttps://tfhub.dev/tensorflow/efficientdet/d7/1\u001b[39m\u001b[38;5;124m\"\u001b[39m\n\u001b[0;32m      3\u001b[0m \u001b[38;5;66;03m# Cargar el modelo desde TensorFlow Hub\u001b[39;00m\n\u001b[0;32m      4\u001b[0m \u001b[38;5;66;03m#model = hub.load(model_url)\u001b[39;00m\n\u001b[1;32m----> 5\u001b[0m model \u001b[38;5;241m=\u001b[39m hub\u001b[38;5;241m.\u001b[39mload(\u001b[38;5;124m\"\u001b[39m\u001b[38;5;124mhttps://www.kaggle.com/models/tensorflow/efficientdet/frameworks/TensorFlow2/variations/d7/versions/1\u001b[39m\u001b[38;5;124m\"\u001b[39m)\n",
      "File \u001b[1;32mc:\\Users\\User\\anaconda3\\Lib\\site-packages\\tensorflow_hub\\module_v2.py:126\u001b[0m, in \u001b[0;36mload\u001b[1;34m(handle, tags, options)\u001b[0m\n\u001b[0;32m    123\u001b[0m   obj \u001b[38;5;241m=\u001b[39m tf\u001b[38;5;241m.\u001b[39mcompat\u001b[38;5;241m.\u001b[39mv1\u001b[38;5;241m.\u001b[39msaved_model\u001b[38;5;241m.\u001b[39mload_v2(\n\u001b[0;32m    124\u001b[0m       module_path, tags\u001b[38;5;241m=\u001b[39mtags, options\u001b[38;5;241m=\u001b[39moptions)\n\u001b[0;32m    125\u001b[0m \u001b[38;5;28;01melse\u001b[39;00m:\n\u001b[1;32m--> 126\u001b[0m   obj \u001b[38;5;241m=\u001b[39m tf\u001b[38;5;241m.\u001b[39mcompat\u001b[38;5;241m.\u001b[39mv1\u001b[38;5;241m.\u001b[39msaved_model\u001b[38;5;241m.\u001b[39mload_v2(module_path, tags\u001b[38;5;241m=\u001b[39mtags)\n\u001b[0;32m    127\u001b[0m obj\u001b[38;5;241m.\u001b[39m_is_hub_module_v1 \u001b[38;5;241m=\u001b[39m is_hub_module_v1  \u001b[38;5;66;03m# pylint: disable=protected-access\u001b[39;00m\n\u001b[0;32m    128\u001b[0m \u001b[38;5;28;01mreturn\u001b[39;00m obj\n",
      "File \u001b[1;32mc:\\Users\\User\\anaconda3\\Lib\\site-packages\\tensorflow\\python\\saved_model\\load.py:912\u001b[0m, in \u001b[0;36mload\u001b[1;34m(export_dir, tags, options)\u001b[0m\n\u001b[0;32m    910\u001b[0m \u001b[38;5;28;01mif\u001b[39;00m \u001b[38;5;28misinstance\u001b[39m(export_dir, os\u001b[38;5;241m.\u001b[39mPathLike):\n\u001b[0;32m    911\u001b[0m   export_dir \u001b[38;5;241m=\u001b[39m os\u001b[38;5;241m.\u001b[39mfspath(export_dir)\n\u001b[1;32m--> 912\u001b[0m result \u001b[38;5;241m=\u001b[39m load_partial(export_dir, \u001b[38;5;28;01mNone\u001b[39;00m, tags, options)[\u001b[38;5;124m\"\u001b[39m\u001b[38;5;124mroot\u001b[39m\u001b[38;5;124m\"\u001b[39m]\n\u001b[0;32m    913\u001b[0m \u001b[38;5;28;01mreturn\u001b[39;00m result\n",
      "File \u001b[1;32mc:\\Users\\User\\anaconda3\\Lib\\site-packages\\tensorflow\\python\\saved_model\\load.py:1043\u001b[0m, in \u001b[0;36mload_partial\u001b[1;34m(export_dir, filters, tags, options)\u001b[0m\n\u001b[0;32m   1041\u001b[0m \u001b[38;5;28;01mwith\u001b[39;00m ops\u001b[38;5;241m.\u001b[39minit_scope():\n\u001b[0;32m   1042\u001b[0m   \u001b[38;5;28;01mtry\u001b[39;00m:\n\u001b[1;32m-> 1043\u001b[0m     loader \u001b[38;5;241m=\u001b[39m Loader(object_graph_proto, saved_model_proto, export_dir,\n\u001b[0;32m   1044\u001b[0m                     ckpt_options, options, filters)\n\u001b[0;32m   1045\u001b[0m   \u001b[38;5;28;01mexcept\u001b[39;00m errors\u001b[38;5;241m.\u001b[39mNotFoundError \u001b[38;5;28;01mas\u001b[39;00m err:\n\u001b[0;32m   1046\u001b[0m     \u001b[38;5;28;01mraise\u001b[39;00m \u001b[38;5;167;01mFileNotFoundError\u001b[39;00m(\n\u001b[0;32m   1047\u001b[0m         \u001b[38;5;28mstr\u001b[39m(err) \u001b[38;5;241m+\u001b[39m \u001b[38;5;124m\"\u001b[39m\u001b[38;5;130;01m\\n\u001b[39;00m\u001b[38;5;124m You may be trying to load on a different device \u001b[39m\u001b[38;5;124m\"\u001b[39m\n\u001b[0;32m   1048\u001b[0m         \u001b[38;5;124m\"\u001b[39m\u001b[38;5;124mfrom the computational device. Consider setting the \u001b[39m\u001b[38;5;124m\"\u001b[39m\n\u001b[0;32m   1049\u001b[0m         \u001b[38;5;124m\"\u001b[39m\u001b[38;5;124m`experimental_io_device` option in `tf.saved_model.LoadOptions` \u001b[39m\u001b[38;5;124m\"\u001b[39m\n\u001b[0;32m   1050\u001b[0m         \u001b[38;5;124m\"\u001b[39m\u001b[38;5;124mto the io_device such as \u001b[39m\u001b[38;5;124m'\u001b[39m\u001b[38;5;124m/job:localhost\u001b[39m\u001b[38;5;124m'\u001b[39m\u001b[38;5;124m.\u001b[39m\u001b[38;5;124m\"\u001b[39m)\n",
      "File \u001b[1;32mc:\\Users\\User\\anaconda3\\Lib\\site-packages\\tensorflow\\python\\saved_model\\load.py:161\u001b[0m, in \u001b[0;36mLoader.__init__\u001b[1;34m(self, object_graph_proto, saved_model_proto, export_dir, ckpt_options, save_options, filters)\u001b[0m\n\u001b[0;32m    158\u001b[0m \u001b[38;5;28mself\u001b[39m\u001b[38;5;241m.\u001b[39m_proto \u001b[38;5;241m=\u001b[39m object_graph_proto\n\u001b[0;32m    159\u001b[0m \u001b[38;5;28mself\u001b[39m\u001b[38;5;241m.\u001b[39m_export_dir \u001b[38;5;241m=\u001b[39m export_dir\n\u001b[0;32m    160\u001b[0m \u001b[38;5;28mself\u001b[39m\u001b[38;5;241m.\u001b[39m_concrete_functions \u001b[38;5;241m=\u001b[39m (\n\u001b[1;32m--> 161\u001b[0m     function_deserialization\u001b[38;5;241m.\u001b[39mload_function_def_library(\n\u001b[0;32m    162\u001b[0m         library\u001b[38;5;241m=\u001b[39mmeta_graph\u001b[38;5;241m.\u001b[39mgraph_def\u001b[38;5;241m.\u001b[39mlibrary,\n\u001b[0;32m    163\u001b[0m         saved_object_graph\u001b[38;5;241m=\u001b[39m\u001b[38;5;28mself\u001b[39m\u001b[38;5;241m.\u001b[39m_proto,\n\u001b[0;32m    164\u001b[0m         wrapper_function\u001b[38;5;241m=\u001b[39m_WrapperFunction))\n\u001b[0;32m    165\u001b[0m \u001b[38;5;66;03m# Store a set of all concrete functions that have been set up with\u001b[39;00m\n\u001b[0;32m    166\u001b[0m \u001b[38;5;66;03m# captures.\u001b[39;00m\n\u001b[0;32m    167\u001b[0m \u001b[38;5;28mself\u001b[39m\u001b[38;5;241m.\u001b[39m_restored_concrete_functions \u001b[38;5;241m=\u001b[39m \u001b[38;5;28mset\u001b[39m()\n",
      "File \u001b[1;32mc:\\Users\\User\\anaconda3\\Lib\\site-packages\\tensorflow\\python\\saved_model\\function_deserialization.py:445\u001b[0m, in \u001b[0;36mload_function_def_library\u001b[1;34m(library, saved_object_graph, load_shared_name_suffix, wrapper_function)\u001b[0m\n\u001b[0;32m    438\u001b[0m \u001b[38;5;28;01mif\u001b[39;00m (saved_object_graph \u001b[38;5;129;01mis\u001b[39;00m \u001b[38;5;129;01mnot\u001b[39;00m \u001b[38;5;28;01mNone\u001b[39;00m \u001b[38;5;129;01mand\u001b[39;00m\n\u001b[0;32m    439\u001b[0m     orig_name \u001b[38;5;129;01min\u001b[39;00m saved_object_graph\u001b[38;5;241m.\u001b[39mconcrete_functions):\n\u001b[0;32m    440\u001b[0m   \u001b[38;5;66;03m# TODO(b/204324043): Offload the deserialization of the protos to the\u001b[39;00m\n\u001b[0;32m    441\u001b[0m   \u001b[38;5;66;03m# first class objects by passing the actual protos. This is blocked on\u001b[39;00m\n\u001b[0;32m    442\u001b[0m   \u001b[38;5;66;03m# importing `nested_structure_coder` in function.py causing a circular\u001b[39;00m\n\u001b[0;32m    443\u001b[0m   \u001b[38;5;66;03m# dependency.\u001b[39;00m\n\u001b[0;32m    444\u001b[0m   proto \u001b[38;5;241m=\u001b[39m saved_object_graph\u001b[38;5;241m.\u001b[39mconcrete_functions[orig_name]\n\u001b[1;32m--> 445\u001b[0m   structured_input_signature \u001b[38;5;241m=\u001b[39m nested_structure_coder\u001b[38;5;241m.\u001b[39mdecode_proto(\n\u001b[0;32m    446\u001b[0m       proto\u001b[38;5;241m.\u001b[39mcanonicalized_input_signature)\n\u001b[0;32m    447\u001b[0m   structured_outputs \u001b[38;5;241m=\u001b[39m nested_structure_coder\u001b[38;5;241m.\u001b[39mdecode_proto(\n\u001b[0;32m    448\u001b[0m       proto\u001b[38;5;241m.\u001b[39moutput_signature)\n\u001b[0;32m    450\u001b[0m \u001b[38;5;66;03m# There is no need to copy all functions into the function def graph. It\u001b[39;00m\n\u001b[0;32m    451\u001b[0m \u001b[38;5;66;03m# leads to a O(n^2) increase of memory when importing functions and the\u001b[39;00m\n\u001b[0;32m    452\u001b[0m \u001b[38;5;66;03m# extra function definitions are a no-op since they already imported as a\u001b[39;00m\n\u001b[0;32m    453\u001b[0m \u001b[38;5;66;03m# function before and passed in explicitly (due to the topologic sort\u001b[39;00m\n\u001b[0;32m    454\u001b[0m \u001b[38;5;66;03m# import).\u001b[39;00m\n",
      "File \u001b[1;32mc:\\Users\\User\\anaconda3\\Lib\\site-packages\\tensorflow\\python\\saved_model\\nested_structure_coder.py:122\u001b[0m, in \u001b[0;36mdecode_proto\u001b[1;34m(proto)\u001b[0m\n\u001b[0;32m    109\u001b[0m \u001b[38;5;129m@tf_export\u001b[39m(\u001b[38;5;124m\"\u001b[39m\u001b[38;5;124m__internal__.saved_model.decode_proto\u001b[39m\u001b[38;5;124m\"\u001b[39m, v1\u001b[38;5;241m=\u001b[39m[])\n\u001b[0;32m    110\u001b[0m \u001b[38;5;28;01mdef\u001b[39;00m \u001b[38;5;21mdecode_proto\u001b[39m(proto):\n\u001b[0;32m    111\u001b[0m \u001b[38;5;250m  \u001b[39m\u001b[38;5;124;03m\"\"\"Decodes proto representing a nested structure.\u001b[39;00m\n\u001b[0;32m    112\u001b[0m \n\u001b[0;32m    113\u001b[0m \u001b[38;5;124;03m  Args:\u001b[39;00m\n\u001b[1;32m   (...)\u001b[0m\n\u001b[0;32m    120\u001b[0m \u001b[38;5;124;03m    NotEncodableError: For values for which there are no encoders.\u001b[39;00m\n\u001b[0;32m    121\u001b[0m \u001b[38;5;124;03m  \"\"\"\u001b[39;00m\n\u001b[1;32m--> 122\u001b[0m   \u001b[38;5;28;01mreturn\u001b[39;00m _map_structure(proto, _get_decoders())\n",
      "File \u001b[1;32mc:\\Users\\User\\anaconda3\\Lib\\site-packages\\tensorflow\\python\\saved_model\\nested_structure_coder.py:72\u001b[0m, in \u001b[0;36m_map_structure\u001b[1;34m(pyobj, coders)\u001b[0m\n\u001b[0;32m     70\u001b[0m   \u001b[38;5;28;01mif\u001b[39;00m can(pyobj):\n\u001b[0;32m     71\u001b[0m     recursion_fn \u001b[38;5;241m=\u001b[39m functools\u001b[38;5;241m.\u001b[39mpartial(_map_structure, coders\u001b[38;5;241m=\u001b[39mcoders)\n\u001b[1;32m---> 72\u001b[0m     \u001b[38;5;28;01mreturn\u001b[39;00m do(pyobj, recursion_fn)\n\u001b[0;32m     73\u001b[0m \u001b[38;5;28;01mraise\u001b[39;00m NotEncodableError(\n\u001b[0;32m     74\u001b[0m     \u001b[38;5;124mf\u001b[39m\u001b[38;5;124m\"\u001b[39m\u001b[38;5;124mNo encoder for object \u001b[39m\u001b[38;5;132;01m{\u001b[39;00m\u001b[38;5;28mstr\u001b[39m(pyobj)\u001b[38;5;132;01m}\u001b[39;00m\u001b[38;5;124m of type \u001b[39m\u001b[38;5;132;01m{\u001b[39;00m\u001b[38;5;28mtype\u001b[39m(pyobj)\u001b[38;5;132;01m}\u001b[39;00m\u001b[38;5;124m.\u001b[39m\u001b[38;5;124m\"\u001b[39m)\n",
      "File \u001b[1;32mc:\\Users\\User\\anaconda3\\Lib\\site-packages\\tensorflow\\python\\saved_model\\nested_structure_coder.py:182\u001b[0m, in \u001b[0;36m_TupleCodec.do_decode\u001b[1;34m(self, value, decode_fn)\u001b[0m\n\u001b[0;32m    181\u001b[0m \u001b[38;5;28;01mdef\u001b[39;00m \u001b[38;5;21mdo_decode\u001b[39m(\u001b[38;5;28mself\u001b[39m, value, decode_fn):\n\u001b[1;32m--> 182\u001b[0m   \u001b[38;5;28;01mreturn\u001b[39;00m \u001b[38;5;28mtuple\u001b[39m(decode_fn(element) \u001b[38;5;28;01mfor\u001b[39;00m element \u001b[38;5;129;01min\u001b[39;00m value\u001b[38;5;241m.\u001b[39mtuple_value\u001b[38;5;241m.\u001b[39mvalues)\n",
      "File \u001b[1;32mc:\\Users\\User\\anaconda3\\Lib\\site-packages\\tensorflow\\python\\saved_model\\nested_structure_coder.py:182\u001b[0m, in \u001b[0;36m<genexpr>\u001b[1;34m(.0)\u001b[0m\n\u001b[0;32m    181\u001b[0m \u001b[38;5;28;01mdef\u001b[39;00m \u001b[38;5;21mdo_decode\u001b[39m(\u001b[38;5;28mself\u001b[39m, value, decode_fn):\n\u001b[1;32m--> 182\u001b[0m   \u001b[38;5;28;01mreturn\u001b[39;00m \u001b[38;5;28mtuple\u001b[39m(decode_fn(element) \u001b[38;5;28;01mfor\u001b[39;00m element \u001b[38;5;129;01min\u001b[39;00m value\u001b[38;5;241m.\u001b[39mtuple_value\u001b[38;5;241m.\u001b[39mvalues)\n",
      "File \u001b[1;32mc:\\Users\\User\\anaconda3\\Lib\\site-packages\\tensorflow\\python\\saved_model\\nested_structure_coder.py:72\u001b[0m, in \u001b[0;36m_map_structure\u001b[1;34m(pyobj, coders)\u001b[0m\n\u001b[0;32m     70\u001b[0m   \u001b[38;5;28;01mif\u001b[39;00m can(pyobj):\n\u001b[0;32m     71\u001b[0m     recursion_fn \u001b[38;5;241m=\u001b[39m functools\u001b[38;5;241m.\u001b[39mpartial(_map_structure, coders\u001b[38;5;241m=\u001b[39mcoders)\n\u001b[1;32m---> 72\u001b[0m     \u001b[38;5;28;01mreturn\u001b[39;00m do(pyobj, recursion_fn)\n\u001b[0;32m     73\u001b[0m \u001b[38;5;28;01mraise\u001b[39;00m NotEncodableError(\n\u001b[0;32m     74\u001b[0m     \u001b[38;5;124mf\u001b[39m\u001b[38;5;124m\"\u001b[39m\u001b[38;5;124mNo encoder for object \u001b[39m\u001b[38;5;132;01m{\u001b[39;00m\u001b[38;5;28mstr\u001b[39m(pyobj)\u001b[38;5;132;01m}\u001b[39;00m\u001b[38;5;124m of type \u001b[39m\u001b[38;5;132;01m{\u001b[39;00m\u001b[38;5;28mtype\u001b[39m(pyobj)\u001b[38;5;132;01m}\u001b[39;00m\u001b[38;5;124m.\u001b[39m\u001b[38;5;124m\"\u001b[39m)\n",
      "File \u001b[1;32mc:\\Users\\User\\anaconda3\\Lib\\site-packages\\tensorflow\\python\\saved_model\\nested_structure_coder.py:182\u001b[0m, in \u001b[0;36m_TupleCodec.do_decode\u001b[1;34m(self, value, decode_fn)\u001b[0m\n\u001b[0;32m    181\u001b[0m \u001b[38;5;28;01mdef\u001b[39;00m \u001b[38;5;21mdo_decode\u001b[39m(\u001b[38;5;28mself\u001b[39m, value, decode_fn):\n\u001b[1;32m--> 182\u001b[0m   \u001b[38;5;28;01mreturn\u001b[39;00m \u001b[38;5;28mtuple\u001b[39m(decode_fn(element) \u001b[38;5;28;01mfor\u001b[39;00m element \u001b[38;5;129;01min\u001b[39;00m value\u001b[38;5;241m.\u001b[39mtuple_value\u001b[38;5;241m.\u001b[39mvalues)\n",
      "File \u001b[1;32mc:\\Users\\User\\anaconda3\\Lib\\site-packages\\tensorflow\\python\\saved_model\\nested_structure_coder.py:182\u001b[0m, in \u001b[0;36m<genexpr>\u001b[1;34m(.0)\u001b[0m\n\u001b[0;32m    181\u001b[0m \u001b[38;5;28;01mdef\u001b[39;00m \u001b[38;5;21mdo_decode\u001b[39m(\u001b[38;5;28mself\u001b[39m, value, decode_fn):\n\u001b[1;32m--> 182\u001b[0m   \u001b[38;5;28;01mreturn\u001b[39;00m \u001b[38;5;28mtuple\u001b[39m(decode_fn(element) \u001b[38;5;28;01mfor\u001b[39;00m element \u001b[38;5;129;01min\u001b[39;00m value\u001b[38;5;241m.\u001b[39mtuple_value\u001b[38;5;241m.\u001b[39mvalues)\n",
      "\u001b[1;31mKeyboardInterrupt\u001b[0m: "
     ]
    }
   ],
   "source": [
    "model_url = \"https://tfhub.dev/tensorflow/efficientdet/d7/1\"\n",
    "\n",
    "# Cargar el modelo desde TensorFlow Hub\n",
    "#model = hub.load(model_url)\n",
    "model = hub.load(\"https://www.kaggle.com/models/tensorflow/efficientdet/frameworks/TensorFlow2/variations/d7/versions/1\")"
   ]
  },
  {
   "cell_type": "markdown",
   "metadata": {},
   "source": [
    "### Configuración previa"
   ]
  },
  {
   "cell_type": "code",
   "execution_count": null,
   "metadata": {},
   "outputs": [],
   "source": [
    "# Lista para almacenar las cajas delimitadoras predichas\n",
    "predicted_boxes_list = []\n",
    "inicio = time()\n",
    "\n",
    "folder_path = \"../../testImagesNet/Data/\"\n",
    "annotations_directory = \"../../testImagesNet/Annotations/\"\n",
    "output_directory = \"../../output/images/tensorflow_pretrained/\"\n",
    "clear_directory(output_directory)\n",
    "\n",
    "image_list = []\n",
    "image_path_list = []\n",
    "\n",
    "# List all files in the folder\n",
    "for filename in os.listdir(folder_path):\n",
    "    if filename.endswith(('.jpg', '.png', '.jpeg', '.JPEG')):  # You can add more extensions if needed\n",
    "        # Construct the full file path\n",
    "        file_path = os.path.join(folder_path, filename)\n",
    "        \n",
    "        # Read the image and append it to the list\n",
    "        img = cv2.imread(file_path)\n",
    "        image_list.append(img)\n",
    "        image_path_list.append(file_path)\n",
    "    \n",
    "\n",
    "\n",
    "true_boxes_list = []\n",
    "\n",
    "# Recorrer las imágenes y obtener las anotaciones de ground truth\n",
    "\n",
    "resources_directory = \"../../resources/\"\n",
    "\n",
    "# Load COCO class labels\n",
    "class_labels = []\n",
    "with open(resources_directory + \"faster_rcnn_coco.names\", \"rt\") as f:\n",
    "    class_labels = f.read().rstrip('\\n').split('\\n')"
   ]
  },
  {
   "cell_type": "markdown",
   "metadata": {},
   "source": [
    "### Inferencias sobre las imágenes de ImagesNet"
   ]
  },
  {
   "cell_type": "code",
   "execution_count": null,
   "metadata": {},
   "outputs": [],
   "source": [
    "# Lista para almacenar las cajas delimitadoras predichas\n",
    "predicted_boxes_list_tf = []\n",
    "results = {}\n",
    "# Realizar inferencias en cada imagen\n",
    "for image_path, image_file in zip(image_path_list, image_list):\n",
    "\n",
    "    image = cv2.imread(image_path)\n",
    "    image = cv2.cvtColor(image, cv2.COLOR_BGR2RGB)\n",
    "\n",
    "    # Realizar inferencias en la imagen\n",
    "    outputs = model([image])\n",
    "\n",
    "    # Obtener las detecciones\n",
    "    boxes = outputs[\"detection_boxes\"].numpy()\n",
    "    scores = outputs[\"detection_scores\"].numpy()\n",
    "    classes = outputs[\"detection_classes\"].numpy().astype(np.int32)\n",
    "\n",
    "    # (Opcional) Filtrar detecciones por confianza\n",
    "    confidence_threshold = 0.5\n",
    "\n",
    "    xml_data = parse_xml(find_xml_file(annotations_directory, image_path))\n",
    "    \n",
    "    for target in xml_data:\n",
    "        iou = 0\n",
    "\n",
    "        searched_label = translate_coco_to_images_net(target[\"name\"])\n",
    "\n",
    "        image_iou_dict = {}\n",
    "        if searched_label in results:\n",
    "            image_iou_dict = results[searched_label]\n",
    "        if image_path not in image_iou_dict:\n",
    "            image_iou_dict[image_path] = []\n",
    "\n",
    "        for predicted_boxes, predicted_scores, predicted_classes in zip(boxes, scores, classes) :\n",
    "            for box, score, label in zip(predicted_boxes, predicted_scores, predicted_classes):\n",
    "                if score < 0.5 or label - 1 >= len(class_labels):\n",
    "                    break\n",
    "                # Obtener el tamaño de la imagen\n",
    "                image_size = image.shape[:2]\n",
    "\n",
    "                # Convertir las coordenadas normalizadas a píxeles reales\n",
    "                box_minmax = [\n",
    "                    box[1] * image_size[1],  # x_min\n",
    "                    box[0] * image_size[0],  # y_min\n",
    "                    box[3] * image_size[1],  # x_max\n",
    "                    box[2] * image_size[0]   # y_max\n",
    "                ]\n",
    "\n",
    "                draw_box = [int(num) for num in box_minmax]\n",
    "                # Draw the annotated box on the image\n",
    "                color = (0, 255, 0)  # You can change the color as needed\n",
    "                cv2.rectangle(image_file, (draw_box[0], draw_box[1]), (draw_box[2], draw_box[3]), color, 2)\n",
    "                cv2.putText(image_file, class_labels[label - 1], (draw_box[0], draw_box[1] - 10), cv2.FONT_HERSHEY_SIMPLEX, 0.5, color, 2)\n",
    "\n",
    "                if class_labels[label - 1] == searched_label:\n",
    "                    # Calcular IoU\n",
    "                    new_iou = calculate_iou(box_minmax, [target[\"xmin\"], target[\"ymin\"], target[\"xmax\"], target[\"ymax\"]])\n",
    "\n",
    "                    if np.any(new_iou > iou):\n",
    "                        iou = new_iou\n",
    "\n",
    "        # Añadir el resultado al diccionario\n",
    "        image_iou_dict[image_path].append(iou)\n",
    "        results[searched_label] = image_iou_dict\n",
    "        \n",
    "        # Save the annotated image\n",
    "        filename = os.path.join(output_directory, os.path.basename(image_path))\n",
    "        cv2.imwrite(filename, image_file)\n",
    "\n",
    "duracion = time() - inicio"
   ]
  },
  {
   "cell_type": "markdown",
   "metadata": {},
   "source": [
    "### Visualización de resultados"
   ]
  },
  {
   "cell_type": "code",
   "execution_count": 6,
   "metadata": {},
   "outputs": [
    {
     "data": {
      "image/png": "[encoded data removed]",
      "text/plain": [
       "<Figure size 640x480 with 1 Axes>"
      ]
     },
     "metadata": {},
     "output_type": "display_data"
    }
   ],
   "source": [
    "# Visualización de resultados en gráficos y exportación a CSV\n",
    "score_export_folder_path = \"../../output/scores/\"\n",
    "\n",
    "data = results[\"dog\"]\n",
    "\n",
    "merged_array = np.concatenate(list(data.values()))\n",
    "\n",
    "# Create bar chart\n",
    "plt.bar(range(len(merged_array)), merged_array)\n",
    "\n",
    "# Set the y-axis limits to ensure the range is between 0 and 1\n",
    "plt.ylim(0, 1)\n",
    "\n",
    "# Add labels and title\n",
    "plt.xlabel('Detecciones')\n",
    "plt.ylabel('Intersection over Union')\n",
    "plt.title('Tensorflow entrenado con COCO: detección de perros')\n",
    "\n",
    "# Show the plot\n",
    "plt.show()"
   ]
  },
  {
   "cell_type": "code",
   "execution_count": 7,
   "metadata": {},
   "outputs": [
    {
     "ename": "KeyError",
     "evalue": "'car'",
     "output_type": "error",
     "traceback": [
      "\u001b[1;31m---------------------------------------------------------------------------\u001b[0m",
      "\u001b[1;31mKeyError\u001b[0m                                  Traceback (most recent call last)",
      "Cell \u001b[1;32mIn[7], line 1\u001b[0m\n\u001b[1;32m----> 1\u001b[0m data \u001b[38;5;241m=\u001b[39m results[\u001b[38;5;124m\"\u001b[39m\u001b[38;5;124mcar\u001b[39m\u001b[38;5;124m\"\u001b[39m]\n\u001b[0;32m      3\u001b[0m merged_array \u001b[38;5;241m=\u001b[39m np\u001b[38;5;241m.\u001b[39mconcatenate(\u001b[38;5;28mlist\u001b[39m(data\u001b[38;5;241m.\u001b[39mvalues()))\n\u001b[0;32m      5\u001b[0m \u001b[38;5;66;03m# Create bar chart\u001b[39;00m\n",
      "\u001b[1;31mKeyError\u001b[0m: 'car'"
     ]
    }
   ],
   "source": [
    "data = results[\"car\"]\n",
    "\n",
    "merged_array = np.concatenate(list(data.values()))\n",
    "\n",
    "# Create bar chart\n",
    "plt.bar(range(len(merged_array)), merged_array)\n",
    "\n",
    "# Set the y-axis limits to ensure the range is between 0 and 1\n",
    "plt.ylim(0, 1)\n",
    "\n",
    "# Add labels and title\n",
    "plt.xlabel('Detecciones')\n",
    "plt.ylabel('Intersection over Union')\n",
    "plt.title('TensofrFlow entrenado con COCO: detección de coches')\n",
    "\n",
    "# Show the plot\n",
    "plt.show()"
   ]
  },
  {
   "cell_type": "code",
   "execution_count": null,
   "metadata": {},
   "outputs": [
    {
     "data": {
      "image/png": "[encoded data removed]",
      "text/plain": [
       "<Figure size 640x480 with 1 Axes>"
      ]
     },
     "metadata": {},
     "output_type": "display_data"
    }
   ],
   "source": [
    "data = results[\"apple\"]\n",
    "\n",
    "merged_array = np.concatenate(list(data.values()))\n",
    "\n",
    "# Create bar chart\n",
    "plt.bar(range(len(merged_array)), merged_array)\n",
    "\n",
    "# Set the y-axis limits to ensure the range is between 0 and 1\n",
    "plt.ylim(0, 1)\n",
    "\n",
    "# Add labels and title\n",
    "plt.xlabel('Detecciones')\n",
    "plt.ylabel('Intersection over Union')\n",
    "plt.title('TensorFlow entrenado con COCO: detección de manzanas')\n",
    "\n",
    "# Show the plot\n",
    "plt.show()"
   ]
  },
  {
   "cell_type": "markdown",
   "metadata": {},
   "source": [
    "### Métricas"
   ]
  },
  {
   "cell_type": "code",
   "execution_count": null,
   "metadata": {},
   "outputs": [],
   "source": [
    "threshold = 0.5\n",
    "# Specify the file path where you want to export the dictionary\n",
    "score_export_folder_path = \"../../output/scores/\""
   ]
  },
  {
   "cell_type": "code",
   "execution_count": 8,
   "metadata": {},
   "outputs": [
    {
     "name": "stdout",
     "output_type": "stream",
     "text": [
      "Average IoU: 0.8512365798405027\n",
      "Precision: 1.0\n",
      "Recall: 0.9047619047619048\n",
      "F1-score: 0.9500000000000001\n",
      "MSE: 0.09984645423442753\n",
      "MAE: 0.1487634201594973\n",
      "MLSE: 0.04697884839730723\n"
     ]
    }
   ],
   "source": [
    "data = results[\"dog\"]\n",
    "threshold = 0.5\n",
    "merged_array = np.concatenate(list(data.values()))\n",
    "\n",
    "scores = get_scores(merged_array, threshold)\n",
    "\n",
    "print(\"Average IoU: \" + str(scores[\"average_iou\"]))\n",
    "print(\"Precision: \" + str(scores[\"precision\"]))\n",
    "print(\"Recall: \" + str(scores[\"recall\"]))\n",
    "print(\"F1-score: \" + str(scores[\"f1\"]))\n",
    "print(\"MSE: \" + str(scores[\"mse\"]))\n",
    "print(\"MAE: \" + str(scores[\"mae\"]))\n",
    "print(\"MLSE: \" + str(scores[\"mlse\"]))\n",
    "\n",
    "scores[\"time\"] = duracion\n",
    "\n",
    "score_export_file_path = \"tensorflow_dog_scores.json\"\n",
    "# Export the dictionary to a JSON file\n",
    "with open(score_export_folder_path + score_export_file_path, 'w') as file:\n",
    "    json.dump(scores, file)"
   ]
  },
  {
   "cell_type": "code",
   "execution_count": 11,
   "metadata": {},
   "outputs": [
    {
     "name": "stdout",
     "output_type": "stream",
     "text": [
      "Average IoU: 0.7819871186550055\n",
      "Precision: 0.88\n",
      "Recall: 0.9565217391304348\n",
      "F1-score: 0.9166666666666666\n",
      "MSE: 0.15532730068679745\n",
      "MAE: 0.2180128813449945\n",
      "MLSE: 0.07115730276053088\n"
     ]
    }
   ],
   "source": [
    "data = results[\"train\"]\n",
    "\n",
    "merged_array = np.concatenate(list(data.values()))\n",
    "\n",
    "scores = get_scores(merged_array, threshold)\n",
    "\n",
    "print(\"Average IoU: \" + str(scores[\"average_iou\"]))\n",
    "print(\"Precision: \" + str(scores[\"precision\"]))\n",
    "print(\"Recall: \" + str(scores[\"recall\"]))\n",
    "print(\"F1-score: \" + str(scores[\"f1\"]))\n",
    "print(\"MSE: \" + str(scores[\"mse\"]))\n",
    "print(\"MAE: \" + str(scores[\"mae\"]))\n",
    "print(\"MLSE: \" + str(scores[\"mlse\"]))\n",
    "\n",
    "scores[\"time\"] = duracion\n",
    "\n",
    "score_export_file_path = \"tensorflow_train_scores.json\"\n",
    "# Export the dictionary to a JSON file\n",
    "with open(score_export_folder_path + score_export_file_path, 'w') as file:\n",
    "    json.dump(scores, file)"
   ]
  },
  {
   "cell_type": "code",
   "execution_count": 12,
   "metadata": {},
   "outputs": [
    {
     "name": "stdout",
     "output_type": "stream",
     "text": [
      "Average IoU: 0.6365490988005269\n",
      "Precision: 0.8666666666666667\n",
      "Recall: 0.7428571428571429\n",
      "F1-score: 0.8\n",
      "MSE: 0.31999190784049936\n",
      "MAE: 0.3634509011994732\n",
      "MLSE: 0.15070107858612772\n"
     ]
    }
   ],
   "source": [
    "data = results[\"apple\"]\n",
    "\n",
    "merged_array = np.concatenate(list(data.values()))\n",
    "\n",
    "scores = get_scores(merged_array, threshold)\n",
    "\n",
    "print(\"Average IoU: \" + str(scores[\"average_iou\"]))\n",
    "print(\"Precision: \" + str(scores[\"precision\"]))\n",
    "print(\"Recall: \" + str(scores[\"recall\"]))\n",
    "print(\"F1-score: \" + str(scores[\"f1\"]))\n",
    "print(\"MSE: \" + str(scores[\"mse\"]))\n",
    "print(\"MAE: \" + str(scores[\"mae\"]))\n",
    "print(\"MLSE: \" + str(scores[\"mlse\"]))\n",
    "\n",
    "scores[\"time\"] = duracion\n",
    "\n",
    "score_export_file_path = \"tensorflow_apple_scores.json\"\n",
    "# Export the dictionary to a JSON file\n",
    "with open(score_export_folder_path + score_export_file_path, 'w') as file:\n",
    "    json.dump(scores, file)"
   ]
  },
  {
   "cell_type": "code",
   "execution_count": null,
   "metadata": {},
   "outputs": [],
   "source": []
  }
 ],
 "metadata": {
  "kernelspec": {
   "display_name": "Python 3",
   "language": "python",
   "name": "python3"
  },
  "language_info": {
   "codemirror_mode": {
    "name": "ipython",
    "version": 3
   },
   "file_extension": ".py",
   "mimetype": "text/x-python",
   "name": "python",
   "nbconvert_exporter": "python",
   "pygments_lexer": "ipython3",
   "version": "3.11.5"
  }
 },
 "nbformat": 4,
 "nbformat_minor": 2
}
