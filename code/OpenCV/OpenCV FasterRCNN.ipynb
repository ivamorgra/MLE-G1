{
 "cells": [
  {
   "cell_type": "code",
   "execution_count": 15,
   "metadata": {},
   "outputs": [],
   "source": [
    "import cv2\n",
    "import numpy as np"
   ]
  },
  {
   "cell_type": "code",
   "execution_count": 32,
   "metadata": {},
   "outputs": [],
   "source": [
    "# Load COCO class labels\n",
    "class_labels = []\n",
    "with open(\"coco.names\", \"rt\") as f:\n",
    "    class_labels = f.read().rstrip('\\n').split('\\n')\n",
    "\n",
    "# Load pretrained YOLO model\n",
    "# Load the pre-trained Faster R-CNN model and configuration\n",
    "model_path = 'frozen_inference_graph.pb'\n",
    "config_path = 'faster_rcnn_inception_v2_coco_2018_01_28.pbtxt'\n",
    "net = cv2.dnn.readNetFromTensorflow(model_path, config_path)"
   ]
  },
  {
   "cell_type": "code",
   "execution_count": 45,
   "metadata": {},
   "outputs": [],
   "source": [
    "image = cv2.imread(\"Bus_rides2.jpg\")\n",
    "height, width = image.shape[:2]\n",
    "\n",
    "# Create a 4D blob from the image (resize, normalize, swap channels)\n",
    "blob = cv2.dnn.blobFromImage(image, scalefactor=1/255.0, size=(416, 416), swapRB=True, crop=False)\n",
    "\n",
    "# Set the input to the network\n",
    "net.setInput(blob)"
   ]
  },
  {
   "cell_type": "code",
   "execution_count": 46,
   "metadata": {},
   "outputs": [],
   "source": [
    "# Get output layer names\n",
    "out_layer_names = net.getUnconnectedOutLayersNames()\n",
    "\n",
    "# Forward pass to get output\n",
    "output = net.forward(out_layer_names)"
   ]
  },
  {
   "cell_type": "code",
   "execution_count": 47,
   "metadata": {},
   "outputs": [],
   "source": [
    "# Perform object detection\n",
    "detections = net.forward()\n",
    "\n",
    "# Loop through the detections\n",
    "for detection in detections[0, 0, :, :]:\n",
    "    score = float(detection[2])\n",
    "    class_id = int(detection[1])\n",
    "    \n",
    "    if score > 0.1 and class_id < len(class_labels):  # Filter detections with confidence greater than 50%\n",
    "        height, width, _ = image.shape\n",
    "        left = int(detection[3] * width)\n",
    "        top = int(detection[4] * height)\n",
    "        right = int(detection[5] * width)\n",
    "        bottom = int(detection[6] * height)\n",
    "\n",
    "        # Draw bounding box and label on the image\n",
    "        cv2.rectangle(image, (left, top), (right, bottom), (0, 255, 0), 2)\n",
    "        label = f'{class_labels[class_id]}: {score:.2f}'\n",
    "        cv2.putText(image, label, (left, top - 10), cv2.FONT_HERSHEY_SIMPLEX, 0.5, (0, 255, 0), 2)"
   ]
  },
  {
   "cell_type": "code",
   "execution_count": 48,
   "metadata": {},
   "outputs": [],
   "source": [
    "# Display the result\n",
    "cv2.imshow('Object Detection', image)\n",
    "cv2.waitKey(0)\n",
    "cv2.destroyAllWindows()"
   ]
  },
  {
   "cell_type": "code",
   "execution_count": null,
   "metadata": {},
   "outputs": [],
   "source": []
  }
 ],
 "metadata": {
  "kernelspec": {
   "display_name": "base",
   "language": "python",
   "name": "python3"
  },
  "language_info": {
   "codemirror_mode": {
    "name": "ipython",
    "version": 3
   },
   "file_extension": ".py",
   "mimetype": "text/x-python",
   "name": "python",
   "nbconvert_exporter": "python",
   "pygments_lexer": "ipython3",
   "version": "3.11.5"
  }
 },
 "nbformat": 4,
 "nbformat_minor": 2
}
