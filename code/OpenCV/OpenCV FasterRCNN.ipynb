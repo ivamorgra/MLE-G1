{
 "cells": [
  {
   "cell_type": "markdown",
   "metadata": {},
   "source": [
    "# EXPERIMENTO FALLIDO \n",
    "\n",
    "No es capaz de hacer detección de objetos. Probablemente el modelo preentrenado no sea adecuado"
   ]
  },
  {
   "cell_type": "code",
   "execution_count": 5,
   "metadata": {},
   "outputs": [],
   "source": [
    "import sys\n",
    "import cv2\n",
    "import os\n",
    "import shutil\n",
    "\n",
    "sys.path.append(os.path.join(os.getcwd(), \"..\"))\n",
    "\n",
    "from Extra.parse_xml import parse_xml\n",
    "from Extra.translate_coco_to_images_net import translate_coco_to_images_net\n",
    "\n",
    "import matplotlib.pyplot as plt\n",
    "import numpy as np"
   ]
  },
  {
   "cell_type": "code",
   "execution_count": 1,
   "metadata": {},
   "outputs": [],
   "source": [
    "def clear_directory(directory_path):\n",
    "    if os.path.exists(directory_path):\n",
    "        shutil.rmtree(directory_path)\n",
    "    os.makedirs(directory_path)"
   ]
  },
  {
   "cell_type": "code",
   "execution_count": 16,
   "metadata": {},
   "outputs": [],
   "source": [
    "def find_xml_file(path, jpeg_filename):\n",
    "    # Get the base filename without extension\n",
    "    base_filename = os.path.splitext(os.path.basename(jpeg_filename))[0]\n",
    "\n",
    "    # Construct the XML filename\n",
    "    xml_filename = os.path.join(path, f\"{base_filename}.xml\")\n",
    "\n",
    "    # Check if the XML file exists\n",
    "    if os.path.exists(xml_filename):\n",
    "        return xml_filename\n",
    "    else:\n",
    "        return None"
   ]
  },
  {
   "cell_type": "code",
   "execution_count": 17,
   "metadata": {},
   "outputs": [],
   "source": [
    "def calculate_iou(box1, box2):\n",
    "    # Calculate the intersection coordinates\n",
    "    inter_xmin = max(box1[0], box2[0])\n",
    "    inter_ymin = max(box1[1], box2[1])\n",
    "    inter_xmax = min(box1[2], box2[2])\n",
    "    inter_ymax = min(box1[3], box2[3])\n",
    "\n",
    "    # Calculate the area of intersection\n",
    "    inter_area = max(0, inter_xmax - inter_xmin + 1) * max(0, inter_ymax - inter_ymin + 1)\n",
    "\n",
    "    # Calculate the area of both boxes\n",
    "    box1_area = (box1[2] - box1[0] + 1) * (box1[3] - box1[1] + 1)\n",
    "    box2_area = (box2[2] - box2[0] + 1) * (box2[3] - box2[1] + 1)\n",
    "\n",
    "    # Calculate IoU\n",
    "    iou = inter_area / float(box1_area + box2_area - inter_area)\n",
    "    return iou\n",
    "\n",
    "def calculate_absolute_difference(box1, box2):\n",
    "    # Calculate absolute differences for each coordinate\n",
    "    diff_xmin = abs(box1[0] - box2[0])\n",
    "    diff_ymin = abs(box1[1] - box2[1])\n",
    "    diff_xmax = abs(box1[2] - box2[2])\n",
    "    diff_ymax = abs(box1[3] - box2[3])\n",
    "\n",
    "    # You can sum up the absolute differences or use any other measure\n",
    "    total_absolute_difference = diff_xmin + diff_ymin + diff_xmax + diff_ymax\n",
    "    return total_absolute_difference"
   ]
  },
  {
   "cell_type": "code",
   "execution_count": 18,
   "metadata": {},
   "outputs": [],
   "source": [
    "resources_directory = \"../../resources/\"\n",
    "\n",
    "# Load COCO class labels\n",
    "class_labels = []\n",
    "with open(resources_directory + \"coco.names\", \"rt\") as f:\n",
    "    class_labels = f.read().rstrip('\\n').split('\\n')\n",
    "\n",
    "# Load the pre-trained Faster R-CNN model and configuration\n",
    "model_path = resources_directory + 'frozen_inference_graph.pb'\n",
    "config_path = resources_directory + 'faster_rcnn_inception_v2_coco_2018_01_28.pbtxt'\n",
    "net = cv2.dnn.readNetFromTensorflow(model_path, config_path)"
   ]
  },
  {
   "cell_type": "code",
   "execution_count": 19,
   "metadata": {},
   "outputs": [],
   "source": [
    "folder_path = \"../../testImagesNet/Data/\"\n",
    "annotations_directory = \"../../testImagesNet/Annotations/\"\n",
    "output_directory = \"../../output/\"\n",
    "\n",
    "clear_directory(output_directory)\n",
    "\n",
    "image_list = []\n",
    "image_path_list = []\n",
    "\n",
    "# List all files in the folder\n",
    "for filename in os.listdir(folder_path):\n",
    "    if filename.endswith(('.jpg', '.png', '.jpeg', '.JPEG')):  # You can add more extensions if needed\n",
    "        # Construct the full file path\n",
    "        file_path = os.path.join(folder_path, filename)\n",
    "        \n",
    "        # Read the image and append it to the list\n",
    "        img = cv2.imread(file_path)\n",
    "        image_list.append(img)\n",
    "        image_path_list.append(file_path)\n",
    "\n",
    "n = 0\n",
    "results = {}\n",
    "for image in image_list:\n",
    "\n",
    "    xml_data = parse_xml(find_xml_file(annotations_directory, image_path_list[n]))\n",
    "\n",
    "    # Create a 4D blob from the image (resize, normalize, swap channels)\n",
    "    blob = cv2.dnn.blobFromImage(image, scalefactor=1/255.0, size=(416, 416), swapRB=True, crop=False)\n",
    "\n",
    "    # Set the input to the network\n",
    "    net.setInput(blob)\n",
    "\n",
    "    # Get output layer names\n",
    "    out_layer_names = net.getUnconnectedOutLayersNames()\n",
    "\n",
    "    # Forward pass to get output\n",
    "    output = net.forward(out_layer_names)\n",
    "\n",
    "    # Perform object detection\n",
    "    detections = net.forward()\n",
    "\n",
    "    # Loop through the detections\n",
    "    for target in xml_data:\n",
    "        iou = 0\n",
    "\n",
    "        searched_label = translate_coco_to_images_net(target[\"name\"])\n",
    "\n",
    "        image_iou_dict = {}\n",
    "        if searched_label in results:\n",
    "            image_iou_dict = results[searched_label]\n",
    "        if image_path_list[n] not in image_iou_dict:\n",
    "            image_iou_dict[image_path_list[n]] = []\n",
    "\n",
    "        for detection in detections[0, 0, :, :]:\n",
    "\n",
    "            score = float(detection[2])\n",
    "            class_id = int(detection[1])\n",
    "            \n",
    "            if score > 0.5 and class_id < len(class_labels):  # Filter detections with confidence greater than 50%\n",
    "                height, width, _ = image.shape\n",
    "                xmin = int(detection[3] * width)\n",
    "                ymin = int(detection[6] * height)\n",
    "                ymax = int(detection[4] * height)\n",
    "                xmax = int(detection[5] * width)\n",
    "\n",
    "                # Draw bounding box and label on the image\n",
    "                cv2.rectangle(image, (xmin, ymax), (xmax, ymin), (0, 255, 0), 2)\n",
    "                label = f'{class_labels[class_id]}: {score:.2f}'\n",
    "                cv2.putText(image, label, (xmin, ymax - 10), cv2.FONT_HERSHEY_SIMPLEX, 0.5, (0, 255, 0), 2)\n",
    "\n",
    "                if (class_id == searched_label):\n",
    "                    box1 = [xmin, ymin, xmax, ymax]\n",
    "                    box2 = [target[\"xmin\"], target[\"ymin\"], target[\"xmax\"], target[\"ymax\"]]\n",
    "\n",
    "                    new_iou = calculate_iou(box1, box2)\n",
    "\n",
    "                    if new_iou > iou:\n",
    "                        iou = new_iou\n",
    "                        \n",
    "        image_iou_dict[image_path_list[n]].append(iou)\n",
    "        results[searched_label] = image_iou_dict\n",
    "\n",
    "    # Save the annotated image\n",
    "    filename = os.path.join(output_directory, os.path.basename(image_path_list[n]))\n",
    "    cv2.imwrite(filename, image)\n",
    "\n",
    "    n += 1"
   ]
  },
  {
   "cell_type": "code",
   "execution_count": 20,
   "metadata": {},
   "outputs": [
    {
     "name": "stdout",
     "output_type": "stream",
     "text": [
      "{'../../testImagesNet/Data/n02089973_1.JPEG': [0], '../../testImagesNet/Data/n02089973_13.JPEG': [0, 0], '../../testImagesNet/Data/n02089973_2.JPEG': [0], '../../testImagesNet/Data/n02089973_26.JPEG': [0], '../../testImagesNet/Data/n02093859_10.JPEG': [0], '../../testImagesNet/Data/n02093859_3.JPEG': [0], '../../testImagesNet/Data/n02097209_1.JPEG': [0], '../../testImagesNet/Data/n02097209_12.JPEG': [0, 0], '../../testImagesNet/Data/n02097209_8.JPEG': [0], '../../testImagesNet/Data/n02105855_5.JPEG': [0], '../../testImagesNet/Data/n02111277_25.JPEG': [0], '../../testImagesNet/Data/n02112018_2991.JPEG': [0], '../../testImagesNet/Data/n02112018_3024.JPEG': [0], '../../testImagesNet/Data/n02112018_3033.JPEG': [0], '../../testImagesNet/Data/n02112018_3054.JPEG': [0], '../../testImagesNet/Data/n02112018_8.JPEG': [0], '../../testImagesNet/Data/n02114548_12.JPEG': [0], '../../testImagesNet/Data/n02114548_34.JPEG': [0], '../../testImagesNet/Data/n02114548_47.JPEG': [0]}\n",
      "{'../../testImagesNet/Data/n02930766_367.JPEG': [0], '../../testImagesNet/Data/n02930766_43.JPEG': [0], '../../testImagesNet/Data/n02930766_520.JPEG': [0], '../../testImagesNet/Data/n02930766_68.JPEG': [0], '../../testImagesNet/Data/n03930630_10808.JPEG': [0], '../../testImagesNet/Data/n03930630_10913.JPEG': [0], '../../testImagesNet/Data/n03930630_280.JPEG': [0], '../../testImagesNet/Data/n03930630_32.JPEG': [0], '../../testImagesNet/Data/n03930630_42.JPEG': [0], '../../testImagesNet/Data/n03930630_613.JPEG': [0], '../../testImagesNet/Data/n03930630_705.JPEG': [0], '../../testImagesNet/Data/n03930630_821.JPEG': [0], '../../testImagesNet/Data/n03930630_8688.JPEG': [0], '../../testImagesNet/Data/n03930630_8749.JPEG': [0], '../../testImagesNet/Data/n03930630_8776.JPEG': [0], '../../testImagesNet/Data/n03930630_8806.JPEG': [0], '../../testImagesNet/Data/n03930630_8830.JPEG': [0], '../../testImagesNet/Data/n03930630_8838.JPEG': [0], '../../testImagesNet/Data/n03930630_9081.JPEG': [0], '../../testImagesNet/Data/n03930630_9120.JPEG': [0]}\n",
      "{'../../testImagesNet/Data/n07742313_10083.JPEG': [0], '../../testImagesNet/Data/n07742313_10094.JPEG': [0, 0, 0], '../../testImagesNet/Data/n07742313_10170.JPEG': [0], '../../testImagesNet/Data/n07742313_1018.JPEG': [0], '../../testImagesNet/Data/n07742313_10199.JPEG': [0], '../../testImagesNet/Data/n07742313_1028.JPEG': [0, 0], '../../testImagesNet/Data/n07742313_10372.JPEG': [0], '../../testImagesNet/Data/n07742313_10437.JPEG': [0], '../../testImagesNet/Data/n07742313_128.JPEG': [0], '../../testImagesNet/Data/n07742313_165.JPEG': [0], '../../testImagesNet/Data/n07742313_223.JPEG': [0, 0, 0], '../../testImagesNet/Data/n07742313_28.JPEG': [0, 0, 0], '../../testImagesNet/Data/n07742313_379.JPEG': [0, 0, 0], '../../testImagesNet/Data/n07742313_509.JPEG': [0], '../../testImagesNet/Data/n07742313_6.JPEG': [0], '../../testImagesNet/Data/n07742313_644.JPEG': [0, 0], '../../testImagesNet/Data/n07742313_648.JPEG': [0, 0, 0, 0, 0, 0], '../../testImagesNet/Data/n07742313_882.JPEG': [0, 0, 0, 0], '../../testImagesNet/Data/n07742313_947.JPEG': [0], '../../testImagesNet/Data/n07742313_971.JPEG': [0], '../../testImagesNet/Data/n07742313_999.JPEG': [0]}\n"
     ]
    }
   ],
   "source": [
    "print(results[\"dog\"])\n",
    "print(results[\"car\"])\n",
    "print(results[\"apple\"])"
   ]
  },
  {
   "cell_type": "code",
   "execution_count": 47,
   "metadata": {},
   "outputs": [],
   "source": []
  },
  {
   "cell_type": "code",
   "execution_count": 8,
   "metadata": {},
   "outputs": [],
   "source": [
    "# Display the result\n",
    "cv2.imshow('Object Detection', image)\n",
    "cv2.waitKey(0)\n",
    "cv2.destroyAllWindows()"
   ]
  },
  {
   "cell_type": "code",
   "execution_count": null,
   "metadata": {},
   "outputs": [],
   "source": []
  }
 ],
 "metadata": {
  "kernelspec": {
   "display_name": "base",
   "language": "python",
   "name": "python3"
  },
  "language_info": {
   "codemirror_mode": {
    "name": "ipython",
    "version": 3
   },
   "file_extension": ".py",
   "mimetype": "text/x-python",
   "name": "python",
   "nbconvert_exporter": "python",
   "pygments_lexer": "ipython3",
   "version": "3.11.5"
  }
 },
 "nbformat": 4,
 "nbformat_minor": 2
}
